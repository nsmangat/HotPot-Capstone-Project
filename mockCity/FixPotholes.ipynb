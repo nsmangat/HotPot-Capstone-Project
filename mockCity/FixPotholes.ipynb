{
 "cells": [
  {
   "cell_type": "code",
   "execution_count": 42,
   "metadata": {},
   "outputs": [
    {
     "data": {
      "text/plain": [
       "True"
      ]
     },
     "execution_count": 42,
     "metadata": {},
     "output_type": "execute_result"
    }
   ],
   "source": [
    "import psycopg2\n",
    "import os\n",
    "from dotenv import load_dotenv\n",
    "from datetime import datetime\n",
    "import pandas as pd\n",
    "import logging\n",
    "\n",
    "load_dotenv()"
   ]
  },
  {
   "cell_type": "code",
   "execution_count": 43,
   "metadata": {},
   "outputs": [],
   "source": [
    "def setup_logger(name, log_file, level=logging.DEBUG):    \n",
    "    # Create a custom logger\n",
    "    logger = logging.getLogger(name)\n",
    "    logger.setLevel(level)\n",
    "\n",
    "    # Create handlers\n",
    "    file_handler = logging.FileHandler(log_file)\n",
    "    file_handler.setLevel(level)\n",
    "\n",
    "    # Create a formatter and set it for the handler\n",
    "    formatter = logging.Formatter('%(asctime)s - %(name)s - %(levelname)s - %(message)s')\n",
    "    file_handler.setFormatter(formatter)\n",
    "\n",
    "    # Add the handler to the logger\n",
    "    logger.addHandler(file_handler)\n",
    "\n",
    "    return logger"
   ]
  },
  {
   "cell_type": "code",
   "execution_count": 44,
   "metadata": {},
   "outputs": [],
   "source": [
    "def get_connection(logger):\n",
    "    try:\n",
    "        conn = psycopg2.connect(\n",
    "            dbname=os.getenv(\"DB_NAME\"),\n",
    "            user=os.getenv(\"DB_USER\"),\n",
    "            password=os.getenv(\"DB_PASSWORD\"),\n",
    "            host=os.getenv(\"DB_HOST\"),\n",
    "            port=os.getenv(\"DB_PORT\")\n",
    "        )\n",
    "        print(\"Connection established successfully!\")\n",
    "        logger.info(\"Connection established successfully!\")\n",
    "        return conn\n",
    "    except Exception as e:\n",
    "        print(\"Connection failed:\", e)\n",
    "        logger.error(\"Connection failed:\", e)"
   ]
  },
  {
   "cell_type": "code",
   "execution_count": 45,
   "metadata": {},
   "outputs": [],
   "source": [
    "def getAllPotholesToFix(logger):\n",
    "    conn = get_connection(logger)\n",
    "\n",
    "    cursor = conn.cursor()\n",
    "    # Get today's date in YYYY-MM-DD format\n",
    "    today = datetime.today().date()\n",
    "    query = \"\"\"\n",
    "        SELECT * FROM potholes \n",
    "        WHERE is_fixed = false \n",
    "        AND estimated_fix_date = %s\n",
    "        \"\"\"\n",
    "    #Execute query with WHERE clause filtering for is_fixed=False and estimated_fix_date=today\n",
    "    cursor.execute(query, (today,))\n",
    "\n",
    "    # Fetch results (if applicable)\n",
    "    rows = cursor.fetchall()\n",
    "\n",
    "    df = pd.DataFrame(rows, columns=[desc[0] for desc in cursor.description])\n",
    "    cursor.close()\n",
    "    conn.close()\n",
    "\n",
    "    logger.info(\"All potholes that need to set to fixed retrieved successfully.\")\n",
    "\n",
    "    return df"
   ]
  },
  {
   "cell_type": "code",
   "execution_count": 46,
   "metadata": {},
   "outputs": [
    {
     "name": "stdout",
     "output_type": "stream",
     "text": [
      "Connection established successfully!\n"
     ]
    },
    {
     "data": {
      "text/html": [
       "<div>\n",
       "<style scoped>\n",
       "    .dataframe tbody tr th:only-of-type {\n",
       "        vertical-align: middle;\n",
       "    }\n",
       "\n",
       "    .dataframe tbody tr th {\n",
       "        vertical-align: top;\n",
       "    }\n",
       "\n",
       "    .dataframe thead th {\n",
       "        text-align: right;\n",
       "    }\n",
       "</style>\n",
       "<table border=\"1\" class=\"dataframe\">\n",
       "  <thead>\n",
       "    <tr style=\"text-align: right;\">\n",
       "      <th></th>\n",
       "      <th>pothole_id</th>\n",
       "      <th>pothole_size</th>\n",
       "      <th>first_reported_date</th>\n",
       "      <th>number_of_reports</th>\n",
       "      <th>coordinates</th>\n",
       "      <th>is_fixed</th>\n",
       "      <th>updated_at</th>\n",
       "      <th>description</th>\n",
       "      <th>address</th>\n",
       "      <th>is_reported</th>\n",
       "      <th>estimated_fix_date</th>\n",
       "    </tr>\n",
       "  </thead>\n",
       "  <tbody>\n",
       "    <tr>\n",
       "      <th>0</th>\n",
       "      <td>77</td>\n",
       "      <td>Small</td>\n",
       "      <td>2024-07-25 21:50:31.429000+00:00</td>\n",
       "      <td>2</td>\n",
       "      <td>43.478251097734706, -80.51555633000113</td>\n",
       "      <td>False</td>\n",
       "      <td>2024-07-30 01:20:41.784000+00:00</td>\n",
       "      <td>Left lane</td>\n",
       "      <td>257 Willowdale Place, Waterloo, Ontario N2J 3M...</td>\n",
       "      <td>False</td>\n",
       "      <td>2024-07-30 00:00:00+00:00</td>\n",
       "    </tr>\n",
       "    <tr>\n",
       "      <th>1</th>\n",
       "      <td>78</td>\n",
       "      <td>Medium</td>\n",
       "      <td>2024-07-26 00:18:07.515000+00:00</td>\n",
       "      <td>1</td>\n",
       "      <td>43.4844125703497, -80.51252269064273</td>\n",
       "      <td>False</td>\n",
       "      <td>2024-07-26 00:18:07.515000+00:00</td>\n",
       "      <td>Left lane</td>\n",
       "      <td>291 Ferndale Place, Waterloo, Ontario N2J 3X8,...</td>\n",
       "      <td>False</td>\n",
       "      <td>2024-07-30 00:00:00+00:00</td>\n",
       "    </tr>\n",
       "  </tbody>\n",
       "</table>\n",
       "</div>"
      ],
      "text/plain": [
       "   pothole_id pothole_size              first_reported_date  \\\n",
       "0          77        Small 2024-07-25 21:50:31.429000+00:00   \n",
       "1          78       Medium 2024-07-26 00:18:07.515000+00:00   \n",
       "\n",
       "   number_of_reports                             coordinates  is_fixed  \\\n",
       "0                  2  43.478251097734706, -80.51555633000113     False   \n",
       "1                  1    43.4844125703497, -80.51252269064273     False   \n",
       "\n",
       "                        updated_at description  \\\n",
       "0 2024-07-30 01:20:41.784000+00:00   Left lane   \n",
       "1 2024-07-26 00:18:07.515000+00:00   Left lane   \n",
       "\n",
       "                                             address  is_reported  \\\n",
       "0  257 Willowdale Place, Waterloo, Ontario N2J 3M...        False   \n",
       "1  291 Ferndale Place, Waterloo, Ontario N2J 3X8,...        False   \n",
       "\n",
       "         estimated_fix_date  \n",
       "0 2024-07-30 00:00:00+00:00  \n",
       "1 2024-07-30 00:00:00+00:00  "
      ]
     },
     "execution_count": 46,
     "metadata": {},
     "output_type": "execute_result"
    }
   ],
   "source": [
    "logger = setup_logger(\"FixPotholes\", \"FixPotholes.log\")\n",
    "\n",
    "df = getAllPotholesToFix(logger)\n",
    "df"
   ]
  },
  {
   "cell_type": "code",
   "execution_count": 47,
   "metadata": {},
   "outputs": [],
   "source": [
    "def setToFixed(df, logger):\n",
    "    conn = get_connection(logger)\n",
    "\n",
    "    cursor = conn.cursor()\n",
    "\n",
    "    update_query = \"UPDATE potholes SET is_fixed = true WHERE pothole_id = %s\"\n",
    "\n",
    "    #both wokr the same to add date\n",
    "    data = [(row['pothole_id'],) for _, row in df.iterrows()]\n",
    "    #data = [(datetime.strptime(item['EstimatedFixDate'], '%Y-%m-%d').date(), item['pothole_id'],) for item in estimated_fix_dates]\n",
    "\n",
    "    #Set to Null again\n",
    "    #data = [(None, item['pothole_id'],) for item in estimated_fix_dates]\n",
    "\n",
    "    try:\n",
    "        cursor.executemany(update_query, data)\n",
    "        conn.commit()  \n",
    "        print(\"Records updated successfully!\")\n",
    "        logger.info(\"Fix Status updated successfully!\")\n",
    "    except Exception as e:\n",
    "        print(\"Failed to update records:\", e)\n",
    "        logger.error(\"Failed to update records with Fix Status:\", e)\n",
    "        conn.rollback() \n",
    "\n",
    "    cursor.close()\n",
    "    conn.close()"
   ]
  },
  {
   "cell_type": "code",
   "execution_count": 48,
   "metadata": {},
   "outputs": [
    {
     "name": "stdout",
     "output_type": "stream",
     "text": [
      "Connection established successfully!\n",
      "Records updated successfully!\n"
     ]
    }
   ],
   "source": [
    "setToFixed(df, logger)"
   ]
  }
 ],
 "metadata": {
  "kernelspec": {
   "display_name": "capstone",
   "language": "python",
   "name": "python3"
  },
  "language_info": {
   "codemirror_mode": {
    "name": "ipython",
    "version": 3
   },
   "file_extension": ".py",
   "mimetype": "text/x-python",
   "name": "python",
   "nbconvert_exporter": "python",
   "pygments_lexer": "ipython3",
   "version": "3.12.3"
  }
 },
 "nbformat": 4,
 "nbformat_minor": 2
}
