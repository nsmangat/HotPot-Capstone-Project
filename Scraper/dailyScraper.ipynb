{
 "cells": [
  {
   "cell_type": "code",
   "execution_count": 19,
   "metadata": {},
   "outputs": [
    {
     "data": {
      "text/plain": [
       "True"
      ]
     },
     "execution_count": 19,
     "metadata": {},
     "output_type": "execute_result"
    }
   ],
   "source": [
    "import time\n",
    "import psycopg2\n",
    "import os\n",
    "from dotenv import load_dotenv\n",
    "from datetime import datetime, timedelta\n",
    "import pandas as pd\n",
    "import logging\n",
    "\n",
    "#Loading the env\n",
    "load_dotenv()"
   ]
  },
  {
   "cell_type": "code",
   "execution_count": 20,
   "metadata": {},
   "outputs": [],
   "source": [
    "def time_until_next_1am():\n",
    "    now = datetime.now()\n",
    "    next_1am = now.replace(hour=1, minute=0, second=0, microsecond=0)\n",
    "    if now >= next_1am:\n",
    "        next_1am += timedelta(days=1)\n",
    "    return (next_1am - now).total_seconds()\n",
    "\n",
    "def setup_logger(name, log_file, level=logging.DEBUG):    \n",
    "    # Create a custom logger\n",
    "    logger = logging.getLogger(name)\n",
    "    logger.setLevel(level)\n",
    "\n",
    "    # Create handlers\n",
    "    file_handler = logging.FileHandler(log_file)\n",
    "    file_handler.setLevel(level)\n",
    "\n",
    "    # Create a formatter and set it for the handler\n",
    "    formatter = logging.Formatter('%(asctime)s - %(name)s - %(levelname)s - %(message)s')\n",
    "    file_handler.setFormatter(formatter)\n",
    "\n",
    "    # Add the handler to the logger\n",
    "    logger.addHandler(file_handler)\n",
    "\n",
    "    return logger\n",
    "\n",
    "def close_logger(logger):\n",
    "    handlers = logger.handlers[:]\n",
    "    for handler in handlers:\n",
    "        handler.close()\n",
    "        logger.removeHandler(handler)"
   ]
  },
  {
   "cell_type": "code",
   "execution_count": 21,
   "metadata": {},
   "outputs": [],
   "source": [
    "def get_connection(logger):\n",
    "    try:\n",
    "        conn = psycopg2.connect(\n",
    "            dbname=os.getenv(\"DB_NAME\"),\n",
    "            user=os.getenv(\"DB_USER\"),\n",
    "            password=os.getenv(\"DB_PASSWORD\"),\n",
    "            host=os.getenv(\"DB_HOST\"),\n",
    "            port=os.getenv(\"DB_PORT\")\n",
    "        )\n",
    "        logger.info(\"Connection established successfully!\")\n",
    "        \n",
    "        return conn\n",
    "    except Exception as e:\n",
    "        print(\"Connection failed:\", e)\n",
    "        logger.error(\"Connection failed:\", e)"
   ]
  },
  {
   "cell_type": "code",
   "execution_count": 22,
   "metadata": {},
   "outputs": [],
   "source": [
    "def getAllPotholesToReport(logger):\n",
    "    conn = get_connection(logger)\n",
    "\n",
    "    cursor = conn.cursor()\n",
    "    # Get today's date in YYYY-MM-DD format\n",
    "    today = datetime.today().date()\n",
    "    query = \"\"\"\n",
    "        SELECT pothole_id, pothole_size, description, address FROM potholes \n",
    "        WHERE is_reported = false\n",
    "        \"\"\"\n",
    "    #Execute query with WHERE clause filtering for is_fixed=False and estimated_fix_date=today\n",
    "    cursor.execute(query)\n",
    "\n",
    "    # Fetch results (if applicable)\n",
    "    rows = cursor.fetchall()\n",
    "\n",
    "    df = pd.DataFrame(rows, columns=[desc[0] for desc in cursor.description])\n",
    "    cursor.close()\n",
    "    conn.close()\n",
    "\n",
    "    if df.empty:\n",
    "        logger.info(\"No potholes received from DB.\")\n",
    "    else:\n",
    "        logger.info(\"All potholes that need to reported retrieved successfully.\")\n",
    "\n",
    "    return df"
   ]
  },
  {
   "cell_type": "code",
   "execution_count": 34,
   "metadata": {},
   "outputs": [],
   "source": [
    "def setToReported(successIDS, logger):\n",
    "    conn = get_connection(logger)\n",
    "\n",
    "    cursor = conn.cursor()\n",
    "\n",
    "    update_query = \"UPDATE potholes SET is_reported = true WHERE pothole_id = %s\"\n",
    "\n",
    "    #Pothole IDs to be updated\n",
    "    data = [(pothole_id,) for pothole_id in successIDS]\n",
    "\n",
    "    try:\n",
    "        cursor.executemany(update_query, data)\n",
    "        conn.commit()  \n",
    "        print(\"Records updated successfully!\")\n",
    "        logger.info(\"Report Status updated successfully!\")\n",
    "    except Exception as e:\n",
    "        print(\"Failed to update records:\", e)\n",
    "        logger.error(\"Failed to update records with Report Status:\", e)\n",
    "        conn.rollback() \n",
    "\n",
    "    cursor.close()\n",
    "    conn.close()"
   ]
  },
  {
   "cell_type": "code",
   "execution_count": 37,
   "metadata": {},
   "outputs": [
    {
     "data": {
      "text/html": [
       "<div>\n",
       "<style scoped>\n",
       "    .dataframe tbody tr th:only-of-type {\n",
       "        vertical-align: middle;\n",
       "    }\n",
       "\n",
       "    .dataframe tbody tr th {\n",
       "        vertical-align: top;\n",
       "    }\n",
       "\n",
       "    .dataframe thead th {\n",
       "        text-align: right;\n",
       "    }\n",
       "</style>\n",
       "<table border=\"1\" class=\"dataframe\">\n",
       "  <thead>\n",
       "    <tr style=\"text-align: right;\">\n",
       "      <th></th>\n",
       "      <th>pothole_id</th>\n",
       "      <th>pothole_size</th>\n",
       "      <th>description</th>\n",
       "      <th>address</th>\n",
       "    </tr>\n",
       "  </thead>\n",
       "  <tbody>\n",
       "    <tr>\n",
       "      <th>0</th>\n",
       "      <td>74</td>\n",
       "      <td>Zbbzz</td>\n",
       "      <td>Akakk</td>\n",
       "      <td>208 Erb Street East, Waterloo, Ontario N2J 1M6...</td>\n",
       "    </tr>\n",
       "    <tr>\n",
       "      <th>1</th>\n",
       "      <td>75</td>\n",
       "      <td>Timeeee</td>\n",
       "      <td>Chdcj time</td>\n",
       "      <td>145 Lucan Avenue, Waterloo, Ontario N2J 1W6, C...</td>\n",
       "    </tr>\n",
       "    <tr>\n",
       "      <th>2</th>\n",
       "      <td>79</td>\n",
       "      <td>Large</td>\n",
       "      <td>Ahahha</td>\n",
       "      <td>300 weber st, Waterloo</td>\n",
       "    </tr>\n",
       "    <tr>\n",
       "      <th>3</th>\n",
       "      <td>82</td>\n",
       "      <td>Djd</td>\n",
       "      <td>Djd</td>\n",
       "      <td>256 willowdale place, Waterloo</td>\n",
       "    </tr>\n",
       "    <tr>\n",
       "      <th>4</th>\n",
       "      <td>85</td>\n",
       "      <td>Large</td>\n",
       "      <td>Middle of St</td>\n",
       "      <td>260 Lester St, Waterloo</td>\n",
       "    </tr>\n",
       "  </tbody>\n",
       "</table>\n",
       "</div>"
      ],
      "text/plain": [
       "   pothole_id pothole_size   description  \\\n",
       "0          74        Zbbzz         Akakk   \n",
       "1          75      Timeeee   Chdcj time    \n",
       "2          79        Large        Ahahha   \n",
       "3          82          Djd           Djd   \n",
       "4          85        Large  Middle of St   \n",
       "\n",
       "                                             address  \n",
       "0  208 Erb Street East, Waterloo, Ontario N2J 1M6...  \n",
       "1  145 Lucan Avenue, Waterloo, Ontario N2J 1W6, C...  \n",
       "2                             300 weber st, Waterloo  \n",
       "3                     256 willowdale place, Waterloo  \n",
       "4                            260 Lester St, Waterloo  "
      ]
     },
     "execution_count": 37,
     "metadata": {},
     "output_type": "execute_result"
    }
   ],
   "source": [
    "logger = setup_logger('pothole_reporter', 'pothole_reporter.log')\n",
    "df = getAllPotholesToReport(logger)\n",
    "df.head()"
   ]
  },
  {
   "cell_type": "code",
   "execution_count": 28,
   "metadata": {},
   "outputs": [
    {
     "name": "stdout",
     "output_type": "stream",
     "text": [
      "Contact information (optional)\n"
     ]
    },
    {
     "data": {
      "text/plain": [
       "[48]"
      ]
     },
     "execution_count": 28,
     "metadata": {},
     "output_type": "execute_result"
    }
   ],
   "source": [
    "from scraper import submitForm\n",
    "\n",
    "successIDS = []\n",
    "\n",
    "for index, row in df.iterrows():\n",
    "    result = submitForm(row['address'], row['description'], row['pothole_size'])\n",
    "    if result:\n",
    "        successIDS.append(row['pothole_id'])\n"
   ]
  },
  {
   "cell_type": "code",
   "execution_count": null,
   "metadata": {},
   "outputs": [],
   "source": [
    "setToReported(successIDS, logger)"
   ]
  }
 ],
 "metadata": {
  "kernelspec": {
   "display_name": "capstone",
   "language": "python",
   "name": "python3"
  },
  "language_info": {
   "codemirror_mode": {
    "name": "ipython",
    "version": 3
   },
   "file_extension": ".py",
   "mimetype": "text/x-python",
   "name": "python",
   "nbconvert_exporter": "python",
   "pygments_lexer": "ipython3",
   "version": "3.12.3"
  }
 },
 "nbformat": 4,
 "nbformat_minor": 2
}
